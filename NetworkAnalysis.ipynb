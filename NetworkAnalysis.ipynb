{
 "cells": [
  {
   "cell_type": "code",
   "execution_count": 1,
   "id": "28930fd4",
   "metadata": {},
   "outputs": [],
   "source": [
    "import pandas as pd\n",
    "import networkx as nx\n",
    "from pyvis.network import Network\n",
    "import numpy as np"
   ]
  },
  {
   "cell_type": "code",
   "execution_count": 2,
   "id": "63f432ec",
   "metadata": {},
   "outputs": [],
   "source": [
    "df_gene_drug = pd.read_csv(\"Data/Munged_Data/gene_drug.csv\")\n",
    "df_disease_drug = pd.read_csv(\"Data/Munged_Data/disease_drugbank_assocations.tsv\", sep='\\t')\n",
    "df_drug_disease = pd.read_csv(\"Data/Munged_Data/drug_disease_accs.tsv\", sep='\\t')\n",
    "df_disease_go_bp_ida_assocations = pd.read_csv(\"Data/Munged_Data/disease_go_bp_ida_assocations.tsv\", sep='\\t')\n",
    "\n",
    "drug_list = list(set(df_disease_drug[\"DrugBankID\"]))"
   ]
  },
  {
   "cell_type": "code",
   "execution_count": 3,
   "id": "4902e83c",
   "metadata": {},
   "outputs": [],
   "source": [
    "G = nx.from_pandas_edgelist(df_disease_drug, 'diseaseId', 'DrugBankID')"
   ]
  },
  {
   "cell_type": "code",
   "execution_count": 4,
   "id": "2348c84c",
   "metadata": {},
   "outputs": [
    {
     "data": {
      "image/png": "[encoded data removed]",
      "text/plain": [
       "<Figure size 432x288 with 1 Axes>"
      ]
     },
     "metadata": {},
     "output_type": "display_data"
    }
   ],
   "source": [
    "nx.draw(G)"
   ]
  },
  {
   "cell_type": "code",
   "execution_count": 5,
   "id": "39b1eecb",
   "metadata": {},
   "outputs": [
    {
     "name": "stdout",
     "output_type": "stream",
     "text": [
      "Graph with 7288 nodes and 630953 edges\n",
      "Network density: 0.023761282177469856\n"
     ]
    }
   ],
   "source": [
    "print(nx.info(G))\n",
    "print(\"Network density:\", nx.density(G))"
   ]
  },
  {
   "cell_type": "code",
   "execution_count": 6,
   "id": "728d5059",
   "metadata": {},
   "outputs": [
    {
     "data": {
      "text/html": [
       "\n",
       "        <iframe\n",
       "            width=\"500px\"\n",
       "            height=\"500px\"\n",
       "            src=\"disease_drug.html\"\n",
       "            frameborder=\"0\"\n",
       "            allowfullscreen\n",
       "            \n",
       "        ></iframe>\n",
       "        "
      ],
      "text/plain": [
       "<IPython.lib.display.IFrame at 0x7ff4d58dcbe0>"
      ]
     },
     "execution_count": 6,
     "metadata": {},
     "output_type": "execute_result"
    }
   ],
   "source": [
    "#pyvis visualization for a random subset\n",
    "G_sample = nx.from_pandas_edgelist(df_disease_drug.sample(n=1000), 'diseaseId', 'DrugBankID')\n",
    "net = Network(notebook=True, directed=False)\n",
    "net.from_nx(G_sample)\n",
    "net.show_buttons(filter_=True)\n",
    "net.show( \"disease_drug_sample.html\")"
   ]
  },
  {
   "cell_type": "code",
   "execution_count": 7,
   "id": "458479fa",
   "metadata": {},
   "outputs": [],
   "source": [
    "F = nx.from_pandas_edgelist(df_disease_go_bp_ida_assocations, 'diseaseId', 'GO', \"Edge_Strenght\")"
   ]
  },
  {
   "cell_type": "code",
   "execution_count": 8,
   "id": "ca587f0f",
   "metadata": {},
   "outputs": [
    {
     "name": "stdout",
     "output_type": "stream",
     "text": [
      "Graph with 12988 nodes and 322097 edges\n",
      "Network density: 0.003819139790805944\n"
     ]
    }
   ],
   "source": [
    "print(nx.info(F))\n",
    "print(\"Network density:\", nx.density(F))"
   ]
  },
  {
   "cell_type": "code",
   "execution_count": 10,
   "id": "76c8cc0c",
   "metadata": {
    "scrolled": true
   },
   "outputs": [
    {
     "data": {
      "text/html": [
       "\n",
       "        <iframe\n",
       "            width=\"500px\"\n",
       "            height=\"500px\"\n",
       "            src=\"disease_disease_sample.html\"\n",
       "            frameborder=\"0\"\n",
       "            allowfullscreen\n",
       "            \n",
       "        ></iframe>\n",
       "        "
      ],
      "text/plain": [
       "<IPython.lib.display.IFrame at 0x7ff4e3698f40>"
      ]
     },
     "execution_count": 10,
     "metadata": {},
     "output_type": "execute_result"
    }
   ],
   "source": [
    "#pyvis visualization for a random subset\n",
    "F_sample = nx.from_pandas_edgelist(df_disease_go_bp_ida_assocations.sample(n=1000), 'diseaseId', 'GO', \"Edge_Strenght\")\n",
    "net = Network(notebook=True, directed=False)\n",
    "net.from_nx(F_sample)\n",
    "net.show_buttons(filter_=True)\n",
    "net.show( \"disease_disease_sample.html\")"
   ]
  },
  {
   "cell_type": "code",
   "execution_count": 11,
   "id": "0eccb48e",
   "metadata": {},
   "outputs": [
    {
     "name": "stdout",
     "output_type": "stream",
     "text": [
      "Graph with 15100 nodes and 953050 edges\n",
      "Network density: 0.00836027472544342\n"
     ]
    }
   ],
   "source": [
    "H = nx.compose(G,F)\n",
    "print(nx.info(H))\n",
    "print(\"Network density:\", nx.density(H))"
   ]
  },
  {
   "cell_type": "code",
   "execution_count": 12,
   "id": "cf7bb69d",
   "metadata": {},
   "outputs": [
    {
     "data": {
      "text/html": [
       "\n",
       "        <iframe\n",
       "            width=\"500px\"\n",
       "            height=\"500px\"\n",
       "            src=\"Network_sample.html\"\n",
       "            frameborder=\"0\"\n",
       "            allowfullscreen\n",
       "            \n",
       "        ></iframe>\n",
       "        "
      ],
      "text/plain": [
       "<IPython.lib.display.IFrame at 0x7f8ee6aa50d0>"
      ]
     },
     "execution_count": 12,
     "metadata": {},
     "output_type": "execute_result"
    }
   ],
   "source": [
    "#pyvis visualization for a random subset\n",
    "H_sample = nx.compose(G_sample, F_sample)\n",
    "net = Network(notebook=True, directed=False)\n",
    "net.from_nx(H_sample)\n",
    "net.show_buttons(filter_=True)\n",
    "net.show( \"network_sample.html\")"
   ]
  },
  {
   "cell_type": "code",
   "execution_count": 13,
   "id": "34f71301",
   "metadata": {},
   "outputs": [
    {
     "name": "stdout",
     "output_type": "stream",
     "text": [
      "['C0494261', 'GO:0006974', 'C0007102', 'DB00907']\n"
     ]
    }
   ],
   "source": [
    "#example - finding a path between disease and drug\n",
    "print(nx.single_source_shortest_path(H, \"C0494261\")[\"DB00907\"])"
   ]
  },
  {
   "cell_type": "code",
   "execution_count": 23,
   "id": "72bffd0d",
   "metadata": {},
   "outputs": [],
   "source": [
    "def shortest_path_all_targets(disease_name, graph, drug_list):\n",
    "    paths = []\n",
    "    path_lengths = []\n",
    "    for drug in drug_list:\n",
    "        try:\n",
    "            temp_path = nx.single_source_shortest_path(graph, disease_name)[drug]\n",
    "            if len(temp_path)>1:\n",
    "                paths.append(temp_path)\n",
    "                path_lengths.append(len(temp_path))\n",
    "        except:\n",
    "            pass\n",
    "    return paths, path_lengths"
   ]
  },
  {
   "cell_type": "code",
   "execution_count": 24,
   "id": "927fbc97",
   "metadata": {},
   "outputs": [
    {
     "name": "stdout",
     "output_type": "stream",
     "text": [
      "['C1956147', 'DB00641']\n"
     ]
    }
   ],
   "source": [
    "#finding a shortest target drug\n",
    "paths, path_lengths = shortest_path_all_targets(\"C1956147\", H, drug_list)\n",
    "shortest_target = paths[np.argmin(path_lengths)]\n",
    "print(shortest_target)"
   ]
  },
  {
   "cell_type": "markdown",
   "id": "8b151300",
   "metadata": {},
   "source": [
    "---"
   ]
  },
  {
   "cell_type": "code",
   "execution_count": null,
   "id": "365311cc",
   "metadata": {},
   "outputs": [],
   "source": []
  }
 ],
 "metadata": {
  "kernelspec": {
   "display_name": "Python 3 (ipykernel)",
   "language": "python",
   "name": "python3"
  },
  "language_info": {
   "codemirror_mode": {
    "name": "ipython",
    "version": 3
   },
   "file_extension": ".py",
   "mimetype": "text/x-python",
   "name": "python",
   "nbconvert_exporter": "python",
   "pygments_lexer": "ipython3",
   "version": "3.8.12"
  }
 },
 "nbformat": 4,
 "nbformat_minor": 5
}
